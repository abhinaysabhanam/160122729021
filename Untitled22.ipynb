{
  "nbformat": 4,
  "nbformat_minor": 0,
  "metadata": {
    "colab": {
      "provenance": [],
      "authorship_tag": "ABX9TyOtB2juHaqTCc335x/ZoLsF",
      "include_colab_link": true
    },
    "kernelspec": {
      "name": "python3",
      "display_name": "Python 3"
    },
    "language_info": {
      "name": "python"
    }
  },
  "cells": [
    {
      "cell_type": "markdown",
      "metadata": {
        "id": "view-in-github",
        "colab_type": "text"
      },
      "source": [
        "<a href=\"https://colab.research.google.com/github/abhinaysabhanam/160122729021/blob/main/Untitled22.ipynb\" target=\"_parent\"><img src=\"https://colab.research.google.com/assets/colab-badge.svg\" alt=\"Open In Colab\"/></a>"
      ]
    },
    {
      "cell_type": "code",
      "source": [
        "!pip install simpleai\n",
        "from simpleai.search import astar, SearchProblem\n",
        "\n",
        "class PuzzleSolver(SearchProblem):\n",
        "\n",
        "    def actions(self, cur_state):\n",
        "        rows = string_to_list(cur_state)\n",
        "        row_empty, col_empty = get_location(rows, 'e')\n",
        "        actions = []\n",
        "        if row_empty > 0:\n",
        "            actions.append(rows[row_empty - 1][col_empty])\n",
        "        if row_empty < 2:\n",
        "            actions.append(rows[row_empty + 1][col_empty])\n",
        "        if col_empty > 0:\n",
        "            actions.append(rows[row_empty][col_empty - 1])\n",
        "        if col_empty < 2:\n",
        "            actions.append(rows[row_empty][col_empty + 1])\n",
        "        return actions\n",
        "\n",
        "    def result(self, state, action):\n",
        "        rows = string_to_list(state)\n",
        "        row_empty, col_empty = get_location(rows, 'e')\n",
        "        row_new, col_new = get_location(rows, action)\n",
        "        rows[row_empty][col_empty], rows[row_new][col_new] = rows[row_new][col_new], rows[row_empty][col_empty]\n",
        "        return list_to_string(rows)\n",
        "\n",
        "    def is_goal(self, state):\n",
        "        return state == GOAL\n",
        "\n",
        "    def heuristic(self, state):\n",
        "        rows = string_to_list(state)\n",
        "        distance = 0\n",
        "        for number in '12345678e':\n",
        "            row_new, col_new = get_location(rows, number)\n",
        "            row_new_goal, col_new_goal = goal_positions[number]\n",
        "            distance += abs(row_new - row_new_goal) + abs(col_new - col_new_goal)\n",
        "        return distance\n",
        "\n",
        "def list_to_string(input_list):\n",
        "    return '\\n'.join(['-'.join(x) for x in input_list])\n",
        "\n",
        "def string_to_list(input_string):\n",
        "    return [x.split('-') for x in input_string.split('\\n')]\n",
        "\n",
        "def get_location(rows, input_element):\n",
        "    for i, row in enumerate(rows):\n",
        "        for j, item in enumerate(row):\n",
        "            if item == input_element:\n",
        "                return i, j\n",
        "\n",
        "GOAL = '''1-2-3\n",
        "8-e-4\n",
        "7-6-5'''\n",
        "\n",
        "INITIAL = '''2-8-3\n",
        "1-6-4\n",
        "7-e-5'''\n",
        "\n",
        "goal_positions = {}\n",
        "rows_goal = string_to_list(GOAL)\n",
        "for number in '12345678e':\n",
        "    goal_positions[number] = get_location(rows_goal, number)\n",
        "\n",
        "result = astar(PuzzleSolver(INITIAL))\n",
        "\n",
        "for i, (action, state) in enumerate(result.path()):\n",
        "    print()\n",
        "    if action is None:\n",
        "        print('Initial configuration')\n",
        "    elif i == len(result.path()) - 1:\n",
        "        print('After moving', action, 'into the empty space. Goal achieved!')\n",
        "    else:\n",
        "        print('After moving', action, 'into the empty space')\n",
        "    print(state)\n"
      ],
      "metadata": {
        "id": "qtq0k3PFnCR7",
        "outputId": "1a9a8542-c0c3-40cc-f980-316c5276606d",
        "colab": {
          "base_uri": "https://localhost:8080/"
        },
        "collapsed": true
      },
      "execution_count": 11,
      "outputs": [
        {
          "output_type": "stream",
          "name": "stdout",
          "text": [
            "Requirement already satisfied: simpleai in /usr/local/lib/python3.10/dist-packages (0.8.3)\n",
            "\n",
            "Initial configuration\n",
            "2-8-3\n",
            "1-6-4\n",
            "7-e-5\n",
            "\n",
            "After moving 6 into the empty space\n",
            "2-8-3\n",
            "1-e-4\n",
            "7-6-5\n",
            "\n",
            "After moving 8 into the empty space\n",
            "2-e-3\n",
            "1-8-4\n",
            "7-6-5\n",
            "\n",
            "After moving 2 into the empty space\n",
            "e-2-3\n",
            "1-8-4\n",
            "7-6-5\n",
            "\n",
            "After moving 1 into the empty space\n",
            "1-2-3\n",
            "e-8-4\n",
            "7-6-5\n",
            "\n",
            "After moving 8 into the empty space. Goal achieved!\n",
            "1-2-3\n",
            "8-e-4\n",
            "7-6-5\n"
          ]
        }
      ]
    }
  ]
}